{
 "cells": [
  {
   "cell_type": "code",
   "execution_count": null,
   "metadata": {},
   "outputs": [],
   "source": [
    "'''\n",
    "Research on whether addition, subtraction, multiplication, division, floor division and modulo\n",
    "#operations be performed on complex numbers. Based on your study, implement a Python\n",
    "program to demonstrate these operations.\n",
    "'''\n",
    "def  complex_addition(a,b):\n",
    "     return a+b\n",
    "\n",
    "def  complex_subtraction(a,b):\n",
    "     return a-b\n",
    "        \n",
    "def  complex_multiplication(a,b):\n",
    "     return a*b\n",
    "\n",
    "def  complex_division(a,b):\n",
    "     return a/b\n",
    "'''\n",
    "def  complex_modulo(a,b):\n",
    "     return a%b\n",
    "\n",
    "def  complex_floordivision(a,b):\n",
    "     return a//b\n",
    "'''\n",
    "\n",
    "x = complex(2,3)\n",
    "y = complex(3,4)\n",
    "\n",
    "print(\"complex addition :\",complex_addition(x,y))\n",
    "print(\"complex subtraction :\",complex_subtraction(x,y))\n",
    "print(\"complex multiplication :\",complex_multiplication(x,y))\n",
    "print(\"complex_division :\",complex_division(x,y))\n",
    "print(\"Modulo & Floor operation can't be performed for complex numbers,it will lead to TypeError: can't take floor of complex number.\")\n",
    "\n",
    "'''\n",
    "Research on range() functions and its parameters. Create a markdown cell and write in your own\n",
    "words (no copy-paste from google please) what you understand about it. Implement a small\n",
    "program of your choice on the same.\n",
    "'''\n",
    "\n"
   ]
  },
  {
   "cell_type": "markdown",
   "metadata": {},
   "source": [
    "Range Function\n",
    "->range() function used to create to sequence on number\n",
    "->By default value starts from 0 & incremented value of 1 & stops by some number\n",
    "\n",
    "#Range Examples#\n",
    "\n",
    "x=range(5)\n",
    "for n in x:\n",
    "    print(n)\n",
    "    \n",
    "Result: 0,1,2,3,4\n",
    "\n",
    "range(start,stop,incrementvalue)\n",
    "start - starting point of value\n",
    "stop - end point of value\n",
    "incrementvalue -  value by which value need\n",
    "x=range(0,5,2)\n",
    "for n in x:\n",
    "    print(n)\n",
    " \n",
    "result :0,2,4"
   ]
  },
  {
   "cell_type": "code",
   "execution_count": 22,
   "metadata": {},
   "outputs": [
    {
     "name": "stdout",
     "output_type": "stream",
     "text": [
      "Enter First Number :100\n",
      "Enter Second Number: 20\n",
      "80\n",
      "2000\n"
     ]
    }
   ],
   "source": [
    "'''\n",
    "Research on range() functions and its parameters. Create a markdown cell and write in your own\n",
    "words (no copy-paste from google please) what you understand about it. Implement a small\n",
    "program of your choice on the same.\n",
    "\n",
    "'''\n",
    "x = int(input(\"Enter First Number :\"))\n",
    "y = int(input(\"Enter Second Number: \"))\n",
    "substraction = x -y\n",
    "print(substraction)\n",
    "if(substraction > 25):\n",
    "    print(x*y)\n",
    "else:\n",
    "    print(x/y)\n"
   ]
  },
  {
   "cell_type": "code",
   "execution_count": 40,
   "metadata": {},
   "outputs": [
    {
     "name": "stdout",
     "output_type": "stream",
     "text": [
      "number 2\n",
      "square of that number minus 2\n",
      "number 4\n",
      "square of that number minus 2\n",
      "number 6\n",
      "square of that number minus 2\n",
      "number 8\n",
      "square of that number minus 2\n",
      "number 10\n",
      "square of that number minus 2\n",
      "Number greater that 7 & divided by 2 : 42\n",
      "Number greater that 7 & divided by 2 : 14\n",
      "Number greater that 7 & divided by 2 : 92\n",
      "Number greater that 7 & divided by 2 : 10\n"
     ]
    }
   ],
   "source": [
    "'''\n",
    "Consider a list of 10 elements of integer values. If the number in the list is divisible by 2, print the\n",
    "result as \"square of that number minus 2\".\n",
    "'''\n",
    "list1 = [1,2,3,4,5,6,7,8,9,10]\n",
    "for i in list1 :\n",
    "    if(i%2==0):\n",
    "        print(\"number\",i)\n",
    "        print(\"square of that number minus 2\")\n",
    "\n",
    "'''\n",
    "Consider a list of 10 elements. Print all the elements in the list which are greater than 7 when that\n",
    "number is divided 2\n",
    "'''    \n",
    "\n",
    "list2 = [21,2,35,4,5,42,7,14,92,10,]\n",
    "for i in list2:\n",
    "    if(i%2==0 and i>7):\n",
    "        print(\"Number greater that 7 & divided by 2 :\", i)\n"
   ]
  }
 ],
 "metadata": {
  "kernelspec": {
   "display_name": "Python 3",
   "language": "python",
   "name": "python3"
  },
  "language_info": {
   "codemirror_mode": {
    "name": "ipython",
    "version": 3
   },
   "file_extension": ".py",
   "mimetype": "text/x-python",
   "name": "python",
   "nbconvert_exporter": "python",
   "pygments_lexer": "ipython3",
   "version": "3.7.6"
  }
 },
 "nbformat": 4,
 "nbformat_minor": 4
}
