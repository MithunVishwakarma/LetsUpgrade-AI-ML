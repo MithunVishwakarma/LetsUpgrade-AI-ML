{
 "cells": [
  {
   "cell_type": "code",
   "execution_count": 7,
   "metadata": {},
   "outputs": [
    {
     "name": "stdout",
     "output_type": "stream",
     "text": [
      "Top 20 Prime Number : [3, 5, 7, 11, 13, 17, 19, 23, 29, 31, 37, 41, 43, 47, 53, 59, 61, 67, 71, 73]\n"
     ]
    }
   ],
   "source": [
    "#Question 1 :Write a Python program to find the first 20 non-even prime natural numbers.\n",
    "\n",
    "counter =2;\n",
    "prime =[]\n",
    "def isPrime(n) : \n",
    "  \n",
    "    # Corner cases \n",
    "    if (n <= 1) : \n",
    "        return False\n",
    "    if (n <= 3) : \n",
    "        return True\n",
    "  \n",
    "    # This is checked so that we can skip  \n",
    "    # middle five numbers in below loop \n",
    "    if (n % 2 == 0 or n % 3 == 0) : \n",
    "        return False\n",
    "  \n",
    "    i = 5\n",
    "    while(i * i <= n) : \n",
    "        if (n % i == 0 or n % (i + 2) == 0) : \n",
    "            return False\n",
    "        i = i + 6\n",
    "  \n",
    "    return True\n",
    "\n",
    "while(1):\n",
    "    x=isPrime(counter)\n",
    "    if(x==True and counter%2!=0 ):\n",
    "        prime.append(counter)\n",
    "        if(len(prime)>=20):\n",
    "            break;\n",
    "    counter+=1;\n",
    "\n",
    "print(\"Top 20 Prime Number :\",prime)"
   ]
  },
  {
   "cell_type": "code",
   "execution_count": 28,
   "metadata": {},
   "outputs": [
    {
     "name": "stdout",
     "output_type": "stream",
     "text": [
      "MITHUN VISHWAKARMA\n",
      "mithun vishwakarma\n",
      "False\n",
      "Mithun Vishwakarma\n",
      "['Mithun', 'Vishwakarma']\n",
      "['Mithun', 'Vishwakarma']\n",
      "Mithun Ravichandra\n",
      "Mithun|Vishwakarma|Ravichandra\n",
      "False\n",
      "True\n",
      "11\n",
      "True\n",
      "True\n",
      "['Mithun ', ' Vishwakarma Ravichandra']\n",
      "-1\n",
      "7\n",
      "My Name is Mithun      Vishwakarma\n",
      "My Name is      Mithun Vishwakarma\n",
      "False\n",
      "True\n"
     ]
    }
   ],
   "source": [
    "#Question 2 :Write a Python program to implement 15 functions of string.\n",
    "\n",
    "exampleString  = \"Mithun Vishwakarma\"\n",
    "#1 upper() functions convert all character of string to upper case\n",
    "print(exampleString.upper())\n",
    "#2 lower() functions convert all character of string to lower case\n",
    "print(exampleString.lower())\n",
    "#isupper, return true if all character in string is upper\n",
    "print(exampleString.isupper())\n",
    "exampleStringwithSpace  = \" Mithun Vishwakarma \"\n",
    "#3 strip() used to remove addional space in left and right of string \n",
    "print(exampleStringwithSpace.strip())\n",
    "#4 split() - Splits the string at the specified separator, and returns a list,defaut it takes space but you can pass argument\n",
    "print(exampleString.split())\n",
    "exampleStringwithPipeLine  = \"Mithun|Vishwakarma\"\n",
    "\n",
    "#5 split the string based on pipeline and convert to list\n",
    "print(exampleStringwithPipeLine.split(\"|\"))\n",
    "\n",
    "#6 replace() funtion retruns used to replace specified value, 1st parameter is string, 2nd is the string value to be replace\n",
    "txt = \"Mithun Vishwakarma\"\n",
    "replacedString = txt.replace(\"Vishwakarma\", \"Ravichandra\")\n",
    "print(replacedString)\n",
    "\n",
    "\n",
    "#7 Join all items in a tuple/list into a string. You can define your join character\n",
    "stringList = ['Mithun','Vishwakarma','Ravichandra']\n",
    "#join list of character using Pipeline character\n",
    "joincharacter = \"|\"\n",
    "print(joincharacter.join(stringList))\n",
    "\n",
    "#8 isalpha() check all the character in the string is alphabet,true if all are alphabet ,false if numeric or special character \n",
    "stringwithNumeric = \"Mithun Vishwakarma\"\n",
    "print(stringwithNumeric.isalpha())\n",
    "#Result is false due to space\n",
    "stringwithNumeric = \"MithunVishwakarma\"\n",
    "print(stringwithNumeric.isalpha())\n",
    "#Result is True as all character are alphabet\n",
    "\n",
    "#9 index() used to search index of the search work in a string, search string is case sensetive\n",
    "string1 = \"My name is Mithun Vishwakarma\"\n",
    "print(string1.index(\"Mithun\"))\n",
    "\n",
    "#10 endswith() used to search string at the end of string, \"True\" if string is available at the end of string.\n",
    "Filename = \"TestNodePadFile.txt\"\n",
    "print(Filename.endswith(\".txt\"))\n",
    "\n",
    "#11 isspace() Check if all the characters in the text are whitespaces:\n",
    "Filename = \"    \"\n",
    "print(Filename.isspace())\n",
    "\n",
    "#12 splitlines() used on split text into multipe string based on new line character\n",
    "stringwithNewLine = \"Mithun \\n Vishwakarma Ravichandra\"\n",
    "x = stringwithNewLine.splitlines()\n",
    "print(x)\n",
    "\n",
    "#13 rfind used to find string in a text, return -1 if string is not present \n",
    "string1 = \"Mithun Vishwakarma\"\n",
    "print(string1.rfind(\"ZZ\"))\n",
    "#Result -1\n",
    "print(string1.rfind(\"Vishw\"))\n",
    "#Result 7\n",
    "\n",
    "#13  lstrip() trime all left spact in string\n",
    "txt = \"     Mithun    \"\n",
    "x = txt.lstrip()\n",
    "print(\"My Name is\",x,\" Vishwakarma\")\n",
    "\n",
    "#14  rstrip() trime all right spact in string\n",
    "txt = \"     Mithun    \"\n",
    "y = txt.rstrip()\n",
    "print(\"My Name is\",y,\"Vishwakarma\")#14  rstrip() trime all right spact in string\n",
    "y = txt.rstrip()\n",
    "\n",
    "#15 isdigit() check if all the characters in the text are digits,True if all character are digit\n",
    "\n",
    "sDigit = \"1,2,3,4\"\n",
    "print(sDigit.isdigit())\n",
    "#Result False due to commas\n",
    "sDigit = \"1234\"\n",
    "#Result True\n",
    "print(sDigit.isdigit())"
   ]
  },
  {
   "cell_type": "code",
   "execution_count": 40,
   "metadata": {},
   "outputs": [
    {
     "name": "stdout",
     "output_type": "stream",
     "text": [
      "Enter the string :2\n",
      "2 is Palindrome\n"
     ]
    }
   ],
   "source": [
    "# Question 3: Write a Python program to check if the given string is a Palindrome or Anagram or None of them.Display the message accordingly to the user.\n",
    "\n",
    "string1 = input(\"Enter the string :\")\n",
    "reverseString=string1[::-1]\n",
    "if(string1==reverseString):\n",
    "    print(string1, \"is Palindrome\")\n",
    "else:\n",
    "    print(string1, \"is Anagram\")\n"
   ]
  },
  {
   "cell_type": "code",
   "execution_count": 41,
   "metadata": {},
   "outputs": [
    {
     "name": "stdout",
     "output_type": "stream",
     "text": [
      "Enter Your String:2\n",
      "Final Expected String : \n"
     ]
    }
   ],
   "source": [
    "'''Write a Python's user defined function that removes all the additional characters from the string\n",
    "and converts it finally to lower case using built-in lower(). eg: If the string is \"Dr. Darshan Ingle\n",
    "@AI-ML Trainer\", then the output be \"drdarshaningleaimltrainer\n",
    "'''\n",
    "\n",
    "def removeNonalphaChar(pstr):\n",
    "    RemoveNonAlphaList=[]\n",
    "    for i in list(pstr):\n",
    "        if(str(i).isalpha()):\n",
    "            RemoveNonAlphaList.append(str(i).lower())\n",
    "    return ''.join(RemoveNonAlphaList).lower()\n",
    "\n",
    "str1 = input(\"Enter Your String:\")\n",
    "print(\"Final Expected String :\",removeNonalphaChar(str1))"
   ]
  }
 ],
 "metadata": {
  "kernelspec": {
   "display_name": "Python 3",
   "language": "python",
   "name": "python3"
  },
  "language_info": {
   "codemirror_mode": {
    "name": "ipython",
    "version": 3
   },
   "file_extension": ".py",
   "mimetype": "text/x-python",
   "name": "python",
   "nbconvert_exporter": "python",
   "pygments_lexer": "ipython3",
   "version": "3.7.6"
  }
 },
 "nbformat": 4,
 "nbformat_minor": 4
}
