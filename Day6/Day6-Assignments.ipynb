{
 "cells": [
  {
   "cell_type": "code",
   "execution_count": 15,
   "metadata": {},
   "outputs": [
    {
     "name": "stdout",
     "output_type": "stream",
     "text": [
      "Enter Email Address:mitunv@google.com\n",
      "google\n"
     ]
    }
   ],
   "source": [
    "'''Assuming that we have some email addresses in the \"username@companyname.com\" format, please write program\n",
    "to print the company name of a given email address. Both user names and company names are composed of letters\n",
    "only.\n",
    "'''\n",
    "email=input(\"Enter Email Address:\")\n",
    "print(str(email[email.index(\"@\")+1:])[:str(email[email.index(\"@\")+1:]).index(\".\")])"
   ]
  },
  {
   "cell_type": "code",
   "execution_count": 17,
   "metadata": {},
   "outputs": [
    {
     "name": "stdout",
     "output_type": "stream",
     "text": [
      "Enter words to sortanusha,varsha,rashmi,mithun\n",
      "Sorted words are  anusha mithun rashmi varsha\n"
     ]
    }
   ],
   "source": [
    "'''Write a program that accepts a comma-separated sequence of words as input and prints the words in a comma\n",
    "separated sequence after sorting them alphabetically.\n",
    "'''\n",
    "items=[x for x in input(\"Enter words to sort\").split(',')]\n",
    "items.sort()\n",
    "print (\"Sorted words are \",' '.join(items))"
   ]
  },
  {
   "cell_type": "code",
   "execution_count": 35,
   "metadata": {},
   "outputs": [
    {
     "name": "stdout",
     "output_type": "stream",
     "text": [
      "{'Rashmi', 'Karthik', 'Mithun', 'Swathi'}\n",
      "{'Anusha', 'Varsha', 'Swathi', 'Shiva', 'Rashmi', 'Kiran', 'Raj', 'Karthik', 'Mithun', 'zzzzz'}\n",
      "{'Anusha', 'Varsha', 'Swathi', 'Shiva', 'Rashmi', 'Karthik', 'Mithun', 'zzzzz'}\n",
      "{'Varsha', 'Swathi', 'Shiva', 'Rashmi', 'Karthik', 'Mithun', 'zzzzz'}\n"
     ]
    }
   ],
   "source": [
    "'''Create your own Jupyter Notebook for Sets.'''\n",
    "Cousins = {\"Mithun\", \"Rashmi\", \"Swathi\",\"Karthik\"}\n",
    "print(Cousins)\n",
    "#update() :Add multiple items to a set, using the update() method\n",
    "Cousins.update([\"Shiva\",\"Varsha\",\"Anusha\",\"Raj\",\"Kiran\",\"zzzzz\"])\n",
    "print(Cousins)\n",
    "#remove and discard used to remove element\n",
    "Cousins.remove(\"Raj\")\n",
    "Cousins.discard(\"Kiran\")\n",
    "print(Cousins)\n",
    "#Remove the last item by using the pop() method:\n",
    "Cousins.pop()\n",
    "print(Cousins)"
   ]
  },
  {
   "cell_type": "code",
   "execution_count": 53,
   "metadata": {},
   "outputs": [
    {
     "name": "stdout",
     "output_type": "stream",
     "text": [
      "List Numbers : [4, 5, 6, 8, 10]\n",
      "MissingNumbers :  [7, 9]\n"
     ]
    }
   ],
   "source": [
    "'''Given a list of n-1 numbers ranging from 1 to n, your task is to find the missing number. There are no duplicates'''\n",
    "def FindMissingNo(N): \n",
    "    missing =[];\n",
    "    for i in range(min(N),max(N)+1,1):\n",
    "           if i not in N :\n",
    "            missing.append(i);\n",
    "    return missing;\n",
    "            \n",
    "\n",
    "ListNumbers = [4, 5, 6, 8, 10] \n",
    "MissingNumber = FindMissingNo(ListNumbers) \n",
    "print(\"List Numbers :\",ListNumbers)\n",
    "print(\"MissingNumbers : \",MissingNumber)"
   ]
  },
  {
   "cell_type": "code",
   "execution_count": null,
   "metadata": {},
   "outputs": [],
   "source": [
    "'''\n",
    "With a given list L, write a program to print this list L after removing all duplicate values with original order reserved.\n",
    "'''\n",
    "ListWithDuplicate=list(input().split(\",\"))\n",
    "ListWithDuplicateRemoved=[]\n",
    "for i in ListWithDuplicate:\n",
    "       if i not in ListWithDuplicateRemoved:\n",
    "            ListWithDuplicateRemoved.append(i)\n",
    "print(ListWithDuplicateRemoved)"
   ]
  },
  {
   "cell_type": "code",
   "execution_count": null,
   "metadata": {},
   "outputs": [],
   "source": []
  }
 ],
 "metadata": {
  "kernelspec": {
   "display_name": "Python 3",
   "language": "python",
   "name": "python3"
  },
  "language_info": {
   "codemirror_mode": {
    "name": "ipython",
    "version": 3
   },
   "file_extension": ".py",
   "mimetype": "text/x-python",
   "name": "python",
   "nbconvert_exporter": "python",
   "pygments_lexer": "ipython3",
   "version": "3.7.6"
  }
 },
 "nbformat": 4,
 "nbformat_minor": 4
}
